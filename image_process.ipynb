{
 "cells": [
  {
   "cell_type": "code",
   "execution_count": 26,
   "metadata": {},
   "outputs": [],
   "source": [
    "# -*- coding: utf-8 -*-\n",
    "from numpy import average, dot, linalg\n",
    "import numpy as np\n",
    "import os\n",
    "import argparse\n",
    "from pathlib import Path\n",
    "import random\n",
    "import glob\n",
    "from scipy import ndimage\n",
    "import cv2\n",
    "import time\n",
    "from matplotlib import pylab as plt\n",
    "from skimage import data,exposure,img_as_float\n",
    "from IPython.display import Image, display\n",
    "from ipywidgets import widgets\n"
   ]
  },
  {
   "cell_type": "code",
   "execution_count": 36,
   "metadata": {},
   "outputs": [],
   "source": [
    "def imshow(img):\n",
    "    \"\"\"画像を Notebook 上に表示する。\n",
    "    \"\"\"\n",
    "    encoded = cv2.imencode(\".jpg\", img)[1]\n",
    "    display(Image(encoded, width=800))\n",
    "\n",
    "\n",
    "def process(img, alpha, beta):\n",
    "    \"\"\"明るさ、コントラストを調整し、結果を表示する。\n",
    "    \"\"\"\n",
    "    dst = adjust(img, alpha, beta)\n",
    "    imshow(dst)\n",
    "    "
   ]
  },
  {
   "cell_type": "code",
   "execution_count": 28,
   "metadata": {},
   "outputs": [],
   "source": [
    "\n",
    "def adjust(img, alpha=1.0, beta=0.0):\n",
    "    # 積和演算を行う。\n",
    "    dst = alpha * img + beta\n",
    "    # [0, 255] でクリップし、uint8 型にする。\n",
    "    return np.clip(dst, 0, 255).astype(np.uint8)\n"
   ]
  },
  {
   "cell_type": "code",
   "execution_count": 34,
   "metadata": {},
   "outputs": [],
   "source": [
    "# パラメータ「ゲイン」を設定するスライダー\n",
    "alpha_slider = widgets.FloatSlider(\n",
    "            min=0.0, max=3.0, step=0.1, value=1.0, description=\"alpha: \"\n",
    "        )\n",
    "alpha_slider.layout.width = \"400px\"\n",
    "\n",
    "        # パラメータ「バイアス」を設定するスライダー\n",
    "beta_slider = widgets.FloatSlider(\n",
    "            min=-100.0, max=100.0, step=10.0, value=0.0, description=\"beta: \"\n",
    "        )\n",
    "beta_slider.layout.width = \"400px\""
   ]
  },
  {
   "cell_type": "code",
   "execution_count": 38,
   "metadata": {},
   "outputs": [],
   "source": [
    "img = cv2.imread('2.jpg')"
   ]
  },
  {
   "cell_type": "code",
   "execution_count": 39,
   "metadata": {},
   "outputs": [
    {
     "data": {
      "application/vnd.jupyter.widget-view+json": {
       "model_id": "bd1d11f3be0d46fb838790afa8436147",
       "version_major": 2,
       "version_minor": 0
      },
      "text/plain": [
       "interactive(children=(FloatSlider(value=2.2, description='alpha: ', layout=Layout(width='400px'), max=3.0), Fl…"
      ]
     },
     "metadata": {},
     "output_type": "display_data"
    }
   ],
   "source": [
    "widgets.interactive(\n",
    "            process, img=widgets.fixed(img), alpha=alpha_slider, beta=beta_slider\n",
    "        )"
   ]
  },
  {
   "cell_type": "code",
   "execution_count": 12,
   "metadata": {},
   "outputs": [],
   "source": [
    "def gamma_correction(img, gamma):\n",
    "    # テーブルを作成する。\n",
    "    table = (np.arange(256) / 255) ** gamma * 255\n",
    "    # [0, 255] でクリップし、uint8 型にする。\n",
    "    table = np.clip(table, 0, 255).astype(np.uint8)\n",
    "\n",
    "    return cv2.LUT(img, table)\n"
   ]
  },
  {
   "cell_type": "code",
   "execution_count": 23,
   "metadata": {
    "scrolled": true
   },
   "outputs": [
    {
     "data": {
      "application/vnd.jupyter.widget-view+json": {
       "model_id": "4383ac57d389449b94814b357891be9c",
       "version_major": 2,
       "version_minor": 0
      },
      "text/plain": [
       "interactive(children=(FloatSlider(value=1.0, description='gamma: ', layout=Layout(width='400px'), max=3.0), Ou…"
      ]
     },
     "metadata": {},
     "output_type": "display_data"
    }
   ],
   "source": [
    "import cv2\n",
    "from IPython.display import Image, display\n",
    "from ipywidgets import widgets\n",
    "\n",
    "\n",
    "def imshow(img):\n",
    "    \"\"\"画像を Notebook 上に表示する。\n",
    "    \"\"\"\n",
    "    encoded = cv2.imencode(\".png\", img)[1]\n",
    "    display(Image(encoded, width=400))\n",
    "\n",
    "\n",
    "def process(img, gamma):\n",
    "    \"\"\"ガンマ補正を行い、結果を表示する。\n",
    "    \"\"\"\n",
    "    dst = gamma_correction(img, gamma)\n",
    "    imshow(dst)\n",
    "\n",
    "\n",
    "# パラメータ「ガンマ」を設定するスライダー\n",
    "slider = widgets.FloatSlider(\n",
    "    min=0.0, max=3.0, step=0.1, value=1.0, description=\"gamma: \"\n",
    ")\n",
    "slider.layout.width = \"400px\"\n",
    "img = cv2.imread('3.jpg')\n",
    "\n",
    "# ウィジェットを表示する。\n",
    "widgets.interactive(process, img=widgets.fixed(img), gamma=slider)"
   ]
  },
  {
   "cell_type": "code",
   "execution_count": null,
   "metadata": {},
   "outputs": [],
   "source": []
  }
 ],
 "metadata": {
  "kernelspec": {
   "display_name": "Python 3",
   "language": "python",
   "name": "python3"
  },
  "language_info": {
   "codemirror_mode": {
    "name": "ipython",
    "version": 3
   },
   "file_extension": ".py",
   "mimetype": "text/x-python",
   "name": "python",
   "nbconvert_exporter": "python",
   "pygments_lexer": "ipython3",
   "version": "3.7.3"
  }
 },
 "nbformat": 4,
 "nbformat_minor": 4
}
